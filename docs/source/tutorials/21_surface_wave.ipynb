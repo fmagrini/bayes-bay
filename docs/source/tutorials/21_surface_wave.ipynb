{
 "cells": [
  {
   "cell_type": "code",
   "execution_count": 3,
   "id": "9153fbd1-e597-42bf-8373-4efda4dccf03",
   "metadata": {},
   "outputs": [],
   "source": [
    "import bayesbay as bb\n",
    "from bayesbay.discretization import Voronoi1D\n",
    "import numpy as np\n",
    "import matplotlib.pyplot as plt\n",
    "np.random.seed(30)"
   ]
  },
  {
   "cell_type": "code",
   "execution_count": 4,
   "id": "0724a6e2-b4fc-4ee7-9538-6d4344eaa6af",
   "metadata": {},
   "outputs": [],
   "source": [
    "THICKNESS = np.array([10, 10, 15, 20, 20, 20, 20, 20, 0])\n",
    "VS = np.array([3.38, 3.44, 3.66, 4.25, 4.35, 4.32, 4.315, 4.38, 4.5])\n",
    "VP_VS = 1.77\n",
    "RAYLEIGH_STD = 0.02\n"
   ]
  },
  {
   "cell_type": "code",
   "execution_count": null,
   "id": "d72d9b6e-9fb7-49c4-a8e2-f35e9caa11ac",
   "metadata": {},
   "outputs": [],
   "source": [
    "ax = Voronoi1D.plot_depth_profile(THICKNESS, VS)\n",
    "ax.set_xlabel('Vs [km/s]')\n",
    "ax.set_ylabel('Depth [km]')\n",
    "plt.show()"
   ]
  }
 ],
 "metadata": {
  "kernelspec": {
   "display_name": "Python 3 (ipykernel)",
   "language": "python",
   "name": "python3"
  },
  "language_info": {
   "codemirror_mode": {
    "name": "ipython",
    "version": 3
   },
   "file_extension": ".py",
   "mimetype": "text/x-python",
   "name": "python",
   "nbconvert_exporter": "python",
   "pygments_lexer": "ipython3",
   "version": "3.9.16"
  }
 },
 "nbformat": 4,
 "nbformat_minor": 5
}
