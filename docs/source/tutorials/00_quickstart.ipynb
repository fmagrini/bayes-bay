{
 "cells": [
  {
   "cell_type": "markdown",
   "metadata": {},
   "source": [
    "(quickstart)=\n",
    "# Quickstart\n",
    "\n",
    "Welcome to the Quickstart guide! This section will guide you through setting up BayesBay, defining a simple model, and running your first MCMC inversion. Before starting, ensure that BayesBay is installed (see our [Installation Guide](../installation)). The imports needed for this tutorial are below."
   ]
  },
  {
   "cell_type": "code",
   "execution_count": 110,
   "metadata": {},
   "outputs": [],
   "source": [
    "import bayesbay as bb\n",
    "\n",
    "import matplotlib.pyplot as plt\n",
    "import numpy as np\n",
    "from scipy.stats import norm\n",
    "\n",
    "plt.rc('text', usetex=True)\n",
    "plt.rc('font', family='serif')"
   ]
  },
  {
   "cell_type": "markdown",
   "metadata": {
    "tags": []
   },
   "source": [
    "## 1. Problem Definition\n",
    "\n",
    "In this example, we will use BayesBay to infer the posterior distribution $p(m \\mid d) \\propto p(m) p(d \\mid m)$, where both the model $m$ and the observed data $d$ are real numbers. (In other words, we will use a zeroth-order polynomial model.) Specifically, we consider the case where $m_{\\text{true}} = 10$ and $d \\sim \\mathcal{N}(m_{\\text{true}}, \\sigma^2)$, where $\\sigma = 0.5$ denotes the data noise standard deviation. We will use a uniform prior $p(m) = \\frac{1}{b - a} = 0.1$, defined over the interval $a = 5$ to $b = 15$.\n",
    "\n",
    "\n"
   ]
  },
  {
   "cell_type": "code",
   "execution_count": 57,
   "metadata": {},
   "outputs": [],
   "source": [
    "m_true = 10\n",
    "sigma_true = 0.5\n",
    "d = np.random.normal(m_true, sigma_true)"
   ]
  },
  {
   "cell_type": "markdown",
   "metadata": {},
   "source": [
    "\n",
    "To solve the Bayesian inverse problem of inferring $m$ from the observations, we need to define:\n",
    "\n",
    "* A [Parameterization](bayesbay.parameterization.Parameterization) instance, encapsulating the prior probability.\n",
    "* A [LogLikelihood](bayesbay.likelihood.LogLikelihood) instance, enabling evaluation of model goodness at each Markov chain iteration.\n",
    "\n",
    "We will implement the latter through a *forward function*, which returns data predictions $d_{\\text{pred}}$ at each Markov chain iteration, and a [Target](bayesbay.likelihood.Target), a Python object designed to store all information about the observed data."
   ]
  },
  {
   "cell_type": "markdown",
   "metadata": {},
   "source": [
    "## 2. Parameterizing the Inverse Problem\n",
    "\n",
    "### **2.1 Prior Distribution**\n",
    "\n",
    "First, let's define the uniform probability distribution mentioned earlier. This is readily done through the class [UniformPrior](../api/generated/bayesbay.prior.UniformPrior)."
   ]
  },
  {
   "cell_type": "code",
   "execution_count": 58,
   "metadata": {},
   "outputs": [],
   "source": [
    "m_prior = bb.prior.UniformPrior(name=\"m\", vmin=5, vmax=15, perturb_std=0.5)"
   ]
  },
  {
   "cell_type": "markdown",
   "metadata": {},
   "source": [
    "Through the variable `m_prior`, we can verify that we have indeed implemented the prior distribution we wished. For example:"
   ]
  },
  {
   "cell_type": "code",
   "execution_count": 59,
   "metadata": {},
   "outputs": [
    {
     "name": "stdout",
     "output_type": "stream",
     "text": [
      "a = 5\n",
      "b = 15\n",
      "p(m=5) = 0.1\n",
      "p(m=10) = 0.1\n",
      "p(m=15) = 0.1\n",
      "p(m=20) = 0.0\n"
     ]
    }
   ],
   "source": [
    "print(f'a = {m_prior.vmin}')\n",
    "print(f'b = {m_prior.vmax}')\n",
    "print(f'p(m=5) = {round(np.exp(m_prior.log_prior(5)), 10)}')\n",
    "print(f'p(m=10) = {round(np.exp(m_prior.log_prior(10)), 10)}')\n",
    "print(f'p(m=15) = {round(np.exp(m_prior.log_prior(10)), 10)}')\n",
    "print(f'p(m=20) = {round(np.exp(m_prior.log_prior(20)), 10)}')"
   ]
  },
  {
   "cell_type": "markdown",
   "metadata": {},
   "source": [
    "```{note}\n",
    "Different prior distributions can be implemented through the classes available in the module [bayesbay.prior](../api/api_standard_prior). Each of these classes requires the user to define `perturb_std`, the standard deviation $\\theta$ of the Gaussian used to perturb the considered parameter at each Markov chain iteration. Specifically, if the parameter $m$ has a current value $x$ at a given iteration, the proposed value $x'$ is drawn from the distribution $x' \\sim \\mathcal{N}(x, \\theta^2)$."
   ]
  },
  {
   "cell_type": "markdown",
   "metadata": {},
   "source": [
    "### **2.2 Parameter Space**\n",
    "\n",
    "The prior distribution defined above should be used to create what we call a [ParameterSpace](../api/generated/bayesbay.parameterization.ParameterSpace). A `ParameterSpace` is a specialized container that not only groups the inversion free parameters (each of which is characterized by a prior distribution) but also determines their dimensionality. In this case, the dimensionality of $m$ will be fixed and equal to 1."
   ]
  },
  {
   "cell_type": "code",
   "execution_count": 60,
   "metadata": {},
   "outputs": [
    {
     "name": "stdout",
     "output_type": "stream",
     "text": [
      "m_space(parameters=[UniformPrior(name=m, position=None, vmin=5, vmax=15, perturb_std=0.5, perturb_std_birth=None)], n_dimensions=1)\n"
     ]
    }
   ],
   "source": [
    "param_space = bb.parameterization.ParameterSpace(\n",
    "    name=\"m_space\", \n",
    "    n_dimensions=1, \n",
    "    parameters=[m_prior], \n",
    ")\n",
    "print(param_space)"
   ]
  },
  {
   "cell_type": "markdown",
   "metadata": {},
   "source": [
    "````{note}\n",
    "Trans-dimensional models with a number of dimensions between 1 and 100 can be defined using the following syntax:\n",
    "\n",
    "```python\n",
    "param_space = bb.parameterization.ParameterSpace(\n",
    "    name=\"m_space\",\n",
    "    n_dimensions=None,\n",
    "    n_dimension_min=1,\n",
    "    n_dimensions_max=100,\n",
    "    parameters=[m_prior],\n",
    ")\n",
    "```\n",
    "\n",
    "Note the use of `n_dimensions=None`, indicating that the number of dimensions is unknown.\n",
    "````"
   ]
  },
  {
   "cell_type": "markdown",
   "metadata": {},
   "source": [
    "### **2.3 Parameterization**\n",
    "\n",
    "One or more instances of `ParameterSpace` should be used to define a [Parameterization](bayesbay.parameterization.Parameterization). The main purpose of `Parameterization` is to aggregate all model parameters from all specified instances of `ParameterSpace`. (Note that different instances of `ParameterSpace` can have different dimensionality.)"
   ]
  },
  {
   "cell_type": "code",
   "execution_count": 61,
   "metadata": {},
   "outputs": [
    {
     "name": "stdout",
     "output_type": "stream",
     "text": [
      "Parameterization([m_space(parameters=[UniformPrior(name=m, position=None, vmin=5, vmax=15, perturb_std=0.5, perturb_std_birth=None)], n_dimensions=1)])\n"
     ]
    }
   ],
   "source": [
    "parameterization = bb.parameterization.Parameterization(param_space)\n",
    "print(parameterization)"
   ]
  },
  {
   "cell_type": "markdown",
   "metadata": {},
   "source": [
    "Important for testing and debugging your forward functions (more shortly!), a `Parameterization` instance also allows for drawing random deviates from the prior. These are generated in the form of a BayesBay [State](bayesbay.State), described next."
   ]
  },
  {
   "cell_type": "markdown",
   "metadata": {},
   "source": [
    "### **2.4 State**\n",
    "A `State` is a Python `dataclass` containing all numerical information about the proposed model at each Markov chain iteration."
   ]
  },
  {
   "cell_type": "code",
   "execution_count": 62,
   "metadata": {},
   "outputs": [
    {
     "name": "stdout",
     "output_type": "stream",
     "text": [
      "State(param_values={'m_space': ParameterSpaceState(n_dimensions=1, param_values={'m': array([6.63815295])}, cache={})}, temperature=1, cache={}, extra_storage={})\n"
     ]
    }
   ],
   "source": [
    "state = parameterization.initialize()\n",
    "print(state)"
   ]
  },
  {
   "cell_type": "markdown",
   "metadata": {},
   "source": [
    "Note how `state` is organized. It resembles a Python dictionary where each key is the name of a `ParameterSpace` instance (in this case we only have one, `'m_space'`). For each `ParameterSpace` instance, numerical values are assigned to its free parameters (in this case, only `'m'`). \n",
    "\n",
    "````{admonition} Tip\n",
    ":class: tip\n",
    "A `State` instance contains information about the temperature of the Markov chain in which it is generated. This defaults to one but can be modified to achieve advanced [sampling criteria](../api/api_standard_samplers). Additionally, users can cache any data they wish via the `State.save_to_cache()` method and retrieve it through `State.load_from_cache()`. For example:\n",
    "\n",
    "```python\n",
    "# Save\n",
    "my_result = np.random.randn() # Any data type works\n",
    "state.save_to_cache(name='my_result_name', value=my_result)\n",
    "\n",
    "# Load\n",
    "my_result = state.load_from_cache(name='my_result_name')\n",
    "```\n",
    "\n",
    "This feature is especially useful within a forward function, allowing users to reuse, in the next iteration, results from computationally intensive operations without recalculating them from scratch.\n",
    "````"
   ]
  },
  {
   "cell_type": "markdown",
   "metadata": {},
   "source": [
    "## 3. Defining the Likelihood\n",
    "\n",
    "### **3.1 Forward Function**\n",
    "\n",
    "We can now define the forward function that will return the predicted data given the proposed state at each Markov chain iteration. In this case, the forward function is very simple: we only need to retrieve $m$ from the proposed state and return it."
   ]
  },
  {
   "cell_type": "code",
   "execution_count": 63,
   "metadata": {},
   "outputs": [],
   "source": [
    "def fwd_function(state: bb.State) -> np.ndarray:\n",
    "    m = state[\"m_space\"][\"m\"]\n",
    "    return m"
   ]
  },
  {
   "cell_type": "markdown",
   "metadata": {},
   "source": [
    "To verify that the above works, we can write, for example,"
   ]
  },
  {
   "cell_type": "code",
   "execution_count": 64,
   "metadata": {},
   "outputs": [
    {
     "name": "stdout",
     "output_type": "stream",
     "text": [
      "d_pred: [6.63815295]\n",
      "d_obs - d_pred: [3.23408096]\n"
     ]
    }
   ],
   "source": [
    "print(f'd_pred: {fwd_function(state)}')\n",
    "print(f'd_obs - d_pred: {d - fwd_function(state)}')"
   ]
  },
  {
   "cell_type": "markdown",
   "metadata": {},
   "source": [
    "### **3.2 Target**\n",
    "\n",
    "The final step before initializing a [LogLikelihood](bayesbay.likelihood.LogLikelihood) instance is to create a [Target](bayesbay.likelihood.Target): a specialized container for storing our data along with any information about data noise."
   ]
  },
  {
   "cell_type": "code",
   "execution_count": 71,
   "metadata": {},
   "outputs": [
    {
     "name": "stdout",
     "output_type": "stream",
     "text": [
      "Target(name='my_target, dobs=ndarray of shape (), is_hierarchical=False, covariance_mat_inv=4.0)\n"
     ]
    }
   ],
   "source": [
    "target = bb.likelihood.Target(\n",
    "    name=\"my_target\", \n",
    "    dobs=d, \n",
    "    covariance_mat_inv=1/sigma_true**2\n",
    ")\n",
    "print(target)"
   ]
  },
  {
   "cell_type": "markdown",
   "metadata": {},
   "source": [
    "````{note}\n",
    "We assume here that the noise properties are known by specifying the inverse of the data covariance matrix, `covariance_mat_inv`. Treating the data noise as unknown is also possible, as illustrated in several examples in our documentation. (The simplest example is arguably [Polynomial Fitting: Part II](hierarchical_linregr).)\n",
    "````"
   ]
  },
  {
   "cell_type": "markdown",
   "metadata": {},
   "source": [
    "### **3.3 LogLikelihood**\n",
    "\n",
    "Having defined a forward function and a `Target`, we can use them to initialize a [LogLikelihood](bayesbay.likelihood.LogLikelihood) instance:"
   ]
  },
  {
   "cell_type": "code",
   "execution_count": 73,
   "metadata": {},
   "outputs": [
    {
     "name": "stdout",
     "output_type": "stream",
     "text": [
      "LogLikelihood(targets=[Target(name='my_target, dobs=ndarray of shape (), is_hierarchical=False, covariance_mat_inv=4.0)], fwd_functions=['fwd_function'])\n"
     ]
    }
   ],
   "source": [
    "log_likelihood = bb.likelihood.LogLikelihood(targets=target, fwd_functions=fwd_function)\n",
    "print(log_likelihood)"
   ]
  },
  {
   "cell_type": "markdown",
   "metadata": {},
   "source": [
    "````{note}\n",
    "Setting up a joint inversion of multiple data sets is straightforward in BayesBay. For example, consider the case where you have two different data sets, stored in `target_1` and `target_2`, each associated with a distinct forward function, `fwd_func_1` and `fwd_func_2`. Then you can simply write:\n",
    "\n",
    "```python\n",
    "log_likelihood = bb.likelihood.LogLikelihood(\n",
    "            targets=[target_1, target_2], \n",
    "            fwd_functions=[fwd_func_1, fwd_func_2]\n",
    "            )\n",
    "```\n",
    "\n",
    "````"
   ]
  },
  {
   "cell_type": "markdown",
   "metadata": {},
   "source": [
    "````{admonition} Tip\n",
    ":class: tip\n",
    "In general, when initialized through a forward function and a `Target`, `LogLikelihood` will compute, at each Markov chain iteration, the log of the likelihood\n",
    "\n",
    "$$\n",
    "p(\\mathbf{d}|\\mathbf{m}) = \\frac{1}{\\sqrt{(2\\pi)^n |\\mathbf{C}_d|}} \\ \\exp \\left\\{\\frac{-\\Phi(\\mathbf{m})}{2} \\right\\},\n",
    "$$\n",
    "\n",
    "where $n$ denotes the size of the data vector, $\\mathbf{C}_d$ the data covariance matrix, and\n",
    "\n",
    "$$\n",
    "\\Phi(\\mathbf{m}) = \\left[ \\mathbf{g}(\\mathbf{m}) - \\mathbf{d} \\right]^T \\mathbf{C}_d^{-1} \\left[ \\mathbf{g}(\\mathbf{m}) - \\mathbf{d} \\right]\n",
    "$$\n",
    "\n",
    "is the Mahalanobis distance between predictions $\\mathbf{g}(\\mathbf{m})$ and observations.\n",
    "\n",
    "However, a `LogLikelihood` instance can also be initialized by passing a log-likelihood function directly:\n",
    "\n",
    "```python\n",
    "log_likelihood = bb.likelihood.LogLikelihood(log_like_func=my_func)\n",
    "```\n",
    "\n",
    "````"
   ]
  },
  {
   "cell_type": "markdown",
   "metadata": {},
   "source": [
    "## 4. Posterior Sampling\n",
    "\n",
    "Everything is now in place to sample the posterior. To do so, initialize a [BayesianInversion](bayesbay.BayesianInversion) instance using the previously defined `parameterization` and `log_likelihood` while specifying the desired number of Markov chains. The Bayesian sampling is then run through the method `BayesianInversion.run()`, where you can specify the number of iterations (including the number of burn-in iterations) and the interval between model saves."
   ]
  },
  {
   "cell_type": "code",
   "execution_count": 97,
   "metadata": {},
   "outputs": [
    {
     "name": "stdout",
     "output_type": "stream",
     "text": [
      "Chain ID: 0\n",
      "TEMPERATURE: 1\n",
      "EXPLORED MODELS: 50000\n",
      "ACCEPTANCE RATE: 35132/50000 (70.26 %)\n",
      "PARTIAL ACCEPTANCE RATES:\n",
      "\tParamSpacePerturbation(param_space_name=m_space):\n",
      "\t\tParamPerturbation(m_space.m): 35132.00/50000.00 (70.26%)\n",
      "Chain ID: 1\n",
      "TEMPERATURE: 1\n",
      "EXPLORED MODELS: 50000\n",
      "ACCEPTANCE RATE: 35302/50000 (70.60 %)\n",
      "PARTIAL ACCEPTANCE RATES:\n",
      "\tParamSpacePerturbation(param_space_name=m_space):\n",
      "\t\tParamPerturbation(m_space.m): 35302.00/50000.00 (70.60%)\n",
      "Chain ID: 2\n",
      "TEMPERATURE: 1\n",
      "EXPLORED MODELS: 50000\n",
      "ACCEPTANCE RATE: 35253/50000 (70.51 %)\n",
      "PARTIAL ACCEPTANCE RATES:\n",
      "\tParamSpacePerturbation(param_space_name=m_space):\n",
      "\t\tParamPerturbation(m_space.m): 35253.00/50000.00 (70.51%)\n",
      "Chain ID: 3\n",
      "TEMPERATURE: 1\n",
      "EXPLORED MODELS: 50000\n",
      "ACCEPTANCE RATE: 35206/50000 (70.41 %)\n",
      "PARTIAL ACCEPTANCE RATES:\n",
      "\tParamSpacePerturbation(param_space_name=m_space):\n",
      "\t\tParamPerturbation(m_space.m): 35206.00/50000.00 (70.41%)\n",
      "Chain ID: 4\n",
      "TEMPERATURE: 1\n",
      "EXPLORED MODELS: 50000\n",
      "ACCEPTANCE RATE: 35207/50000 (70.41 %)\n",
      "PARTIAL ACCEPTANCE RATES:\n",
      "\tParamSpacePerturbation(param_space_name=m_space):\n",
      "\t\tParamPerturbation(m_space.m): 35207.00/50000.00 (70.41%)\n",
      "Chain ID: 5\n",
      "TEMPERATURE: 1\n",
      "EXPLORED MODELS: 50000\n",
      "ACCEPTANCE RATE: 35362/50000 (70.72 %)\n",
      "PARTIAL ACCEPTANCE RATES:\n",
      "\tParamSpacePerturbation(param_space_name=m_space):\n",
      "\t\tParamPerturbation(m_space.m): 35362.00/50000.00 (70.72%)\n",
      "Chain ID: 6\n",
      "TEMPERATURE: 1\n",
      "EXPLORED MODELS: 50000\n",
      "ACCEPTANCE RATE: 35195/50000 (70.39 %)\n",
      "PARTIAL ACCEPTANCE RATES:\n",
      "\tParamSpacePerturbation(param_space_name=m_space):\n",
      "\t\tParamPerturbation(m_space.m): 35195.00/50000.00 (70.39%)\n",
      "Chain ID: 7\n",
      "TEMPERATURE: 1\n",
      "EXPLORED MODELS: 50000\n",
      "ACCEPTANCE RATE: 35162/50000 (70.32 %)\n",
      "PARTIAL ACCEPTANCE RATES:\n",
      "\tParamSpacePerturbation(param_space_name=m_space):\n",
      "\t\tParamPerturbation(m_space.m): 35162.00/50000.00 (70.32%)\n",
      "Chain ID: 8\n",
      "TEMPERATURE: 1\n",
      "EXPLORED MODELS: 50000\n",
      "ACCEPTANCE RATE: 35281/50000 (70.56 %)\n",
      "PARTIAL ACCEPTANCE RATES:\n",
      "\tParamSpacePerturbation(param_space_name=m_space):\n",
      "\t\tParamPerturbation(m_space.m): 35281.00/50000.00 (70.56%)\n",
      "Chain ID: 9\n",
      "TEMPERATURE: 1\n",
      "EXPLORED MODELS: 50000\n",
      "ACCEPTANCE RATE: 35060/50000 (70.12 %)\n",
      "PARTIAL ACCEPTANCE RATES:\n",
      "\tParamSpacePerturbation(param_space_name=m_space):\n",
      "\t\tParamPerturbation(m_space.m): 35060.00/50000.00 (70.12%)\n"
     ]
    }
   ],
   "source": [
    "inversion = bb.BayesianInversion(\n",
    "    log_likelihood=log_likelihood, \n",
    "    parameterization=parameterization, \n",
    "    n_chains=10\n",
    ")\n",
    "inversion.run(\n",
    "    n_iterations=50_000, \n",
    "    burnin_iterations=5_000, \n",
    "    save_every=50, \n",
    "    verbose=False, \n",
    ")\n",
    "for chain in inversion.chains:\n",
    "    chain.print_statistics()"
   ]
  },
  {
   "cell_type": "markdown",
   "metadata": {},
   "source": [
    "````{note}\n",
    "By default, when using multiple Markov chains in the sampling process, parallel computing is enabled automatically, with one job assigned per Markov chain (handled through the [Joblib](https://joblib.readthedocs.io/en/stable/) Python library). If the number of Markov chains exceeds the available CPUs, no issues arise&mdash;the primary effect is an increase in total runtime compared to scenarios with enough CPUs for each chain. \n",
    "\n",
    "If you wish to specify the exact number of jobs, you can do so by passing keyword arguments to `parallel_config` within `BayesianInversion.run()`. For example, to run 5 parallel jobs, you would write:\n",
    "\n",
    "```python\n",
    "inversion.run(\n",
    "    n_iterations=50_000, \n",
    "    burnin_iterations=5_000, \n",
    "    save_every=50, \n",
    "    verbose=False, \n",
    "    parallel_config=dict(n_jobs=5)\n",
    ")\n",
    "```\n",
    "\n",
    "For more details on the keyword arguments available in `parallel_config`, refer to [joblib.Parallel](https://joblib.readthedocs.io/en/stable/generated/joblib.Parallel.html#joblib.Parallel).\n",
    "\n",
    "````"
   ]
  },
  {
   "cell_type": "markdown",
   "metadata": {},
   "source": [
    "## **4.1 Retrieving the results**\n",
    "\n",
    "To retrieve the results, simply write:"
   ]
  },
  {
   "cell_type": "code",
   "execution_count": 98,
   "metadata": {},
   "outputs": [
    {
     "name": "stdout",
     "output_type": "stream",
     "text": [
      "`results` is a dictionary: dict_keys(['m_space.m', 'my_target.dpred'])\n",
      "results[\"m_space.m\"] is a list of length 9000\n",
      "results[\"my_target.dpred\"] is a list of length 9000\n"
     ]
    }
   ],
   "source": [
    "results = inversion.get_results(concatenate_chains=True)\n",
    "\n",
    "print(f'`results` is a dictionary: {results.keys()}')\n",
    "print(f'results[\"m_space.m\"] is a list of length {len(results[\"m_space.m\"])}')\n",
    "print(f'results[\"my_target.dpred\"] is a list of length {len(results[\"my_target.dpred\"])}')"
   ]
  },
  {
   "cell_type": "markdown",
   "metadata": {},
   "source": [
    "As you can see above, the retrieved results are in the form of a Python dictionary. In this example, we have used one free parameter, which we named `m`, associated with the parameter space `m_space`. Samples of `m` are accessed by writing `results[\"m_space.m\"]`. The second key in the dictionary refers to the data predictions (as returned by our `fwd_function`) linked to our `Target` instance, which we named `my_target`. Additional entries would of course appear in the retrieved dictionary of samples if we had used more free parameters, instances of `ParameterSpace`, or instances of `Target`.\n",
    "\n",
    "Also note that both `results[\"m_space.m\"]` and `results[\"my_target.dpred\"]` are lists of 9,000 entries, one for each saved sample. (We used 10 chains, each running for 50,000 iterations, and saved one sample every 50 iterations after a burn-in period of 5,000 iterations, giving a total of $\\frac{10 \\times (50000 - 5000)}{50} = 9000$ saved samples.)"
   ]
  },
  {
   "cell_type": "markdown",
   "metadata": {},
   "source": [
    "````{tip}\n",
    "Note that, in this case, each entry in the predicted data vector is identical to the corresponding entry in the sampled model parameter. This can be verified by writing:\n",
    "\n",
    "```python\n",
    "np.all(results[\"m_space.m\"] == results[\"my_target.dpred\"])\n",
    ">>> True\n",
    "```\n",
    "\n",
    "This occurs because our model is a zeroth-order polynomial. While this redundancy is unusual, we could have avoided saving the predicted data by specifying `save_dpred=False` when initialising `BayesianInversion`:\n",
    "\n",
    "```python\n",
    "bb.BayesianInversion(\n",
    "    ...,\n",
    "    save_dpred=False\n",
    ")\n",
    "```\n",
    "\n",
    "````"
   ]
  },
  {
   "cell_type": "markdown",
   "metadata": {},
   "source": [
    "### **4.2 Plotting**"
   ]
  },
  {
   "cell_type": "code",
   "execution_count": 117,
   "metadata": {},
   "outputs": [
    {
     "data": {
      "image/png": "[encoded data removed]",
      "text/plain": [
       "<Figure size 1200x1200 with 1 Axes>"
      ]
     },
     "metadata": {},
     "output_type": "display_data"
    }
   ],
   "source": [
    "\n",
    "\n",
    "m_samples = np.array(results[\"m_space.m\"])\n",
    "\n",
    "x = np.linspace(m_true - 4*sigma_true, m_true + 4*sigma_true, 1000)\n",
    "pdf = norm.pdf(x, loc=m_true, scale=sigma_true)\n",
    "\n",
    "fig, ax = plt.subplots(figsize=(6, 6), dpi=200)\n",
    "ax.plot(x, pdf, label=r'$\\mathcal{N}(m_{true}, \\sigma^2)$', color='k')\n",
    "ax.hist(m_samples, bins=50, color='indianred', ec='w', density=True)\n",
    "ax.axvline(x=m_true, color='b', linestyle='--', label=r'$m_{true}$')\n",
    "ax.legend()\n",
    "ax.set_xlabel('$m$')\n",
    "ax.set_ylabel('PDF')\n",
    "plt.show()"
   ]
  },
  {
   "cell_type": "code",
   "execution_count": null,
   "metadata": {},
   "outputs": [],
   "source": []
  }
 ],
 "metadata": {
  "kernelspec": {
   "display_name": "Python 3 (ipykernel)",
   "language": "python",
   "name": "python3"
  },
  "language_info": {
   "codemirror_mode": {
    "name": "ipython",
    "version": 3
   },
   "file_extension": ".py",
   "mimetype": "text/x-python",
   "name": "python",
   "nbconvert_exporter": "python",
   "pygments_lexer": "ipython3",
   "version": "3.9.18"
  }
 },
 "nbformat": 4,
 "nbformat_minor": 4
}
